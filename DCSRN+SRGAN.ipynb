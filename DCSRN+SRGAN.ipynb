{
 "cells": [
  {
   "cell_type": "markdown",
   "metadata": {
    "colab_type": "text",
    "id": "sHWKRtfudHuf"
   },
   "source": [
    "\n",
    "3D MRI Super Resolution\n",
    "==============\n",
    "Author: Huixiang Zhuang\n",
    "\n",
    "\n"
   ]
  },
  {
   "cell_type": "code",
   "execution_count": 1,
   "metadata": {
    "colab": {
     "base_uri": "https://localhost:8080/",
     "height": 50
    },
    "colab_type": "code",
    "executionInfo": {
     "elapsed": 673,
     "status": "ok",
     "timestamp": 1556470739862,
     "user": {
      "displayName": "Huixiang Zhuang",
      "photoUrl": "",
      "userId": "14481990962835760752"
     },
     "user_tz": 240
    },
    "id": "ogtngHXVdHuh",
    "outputId": "8f330c0c-8c09-4586-bd23-0ea00446f0eb"
   },
   "outputs": [
    {
     "name": "stdout",
     "output_type": "stream",
     "text": [
      "Random Seed:  999\n"
     ]
    },
    {
     "data": {
      "text/plain": [
       "<torch._C.Generator at 0x7f224a1be810>"
      ]
     },
     "execution_count": 1,
     "metadata": {},
     "output_type": "execute_result"
    }
   ],
   "source": [
    "from __future__ import print_function\n",
    "%matplotlib inline\n",
    "%load_ext autoreload\n",
    "%autoreload 2\n",
    "\n",
    "import os\n",
    "import random\n",
    "import time\n",
    "import math\n",
    "import numpy as np\n",
    "import pickle\n",
    "import matplotlib.pyplot as plt\n",
    "import matplotlib.animation as animation\n",
    "import matplotlib.image as mpimg\n",
    "import pandas as pd\n",
    "from IPython.display import HTML\n",
    "plt.ion()   # interactive mode\n",
    "\n",
    "import torch\n",
    "import torch.nn as nn\n",
    "import torch.nn.parallel\n",
    "import torch.backends.cudnn as cudnn\n",
    "import torch.optim as optim\n",
    "import torch.utils.data\n",
    "import torchvision\n",
    "from torchvision import datasets, models, transforms\n",
    "import torchvision.utils as vutils\n",
    "from torch.utils.data.dataset import Dataset\n",
    "from torch.utils.data.sampler import SubsetRandomSampler\n",
    "# from torch.optim import lr_scheduler\n",
    "\n",
    "\n",
    "# Set random seem for reproducibility\n",
    "manualSeed = 999\n",
    "#manualSeed = random.randint(1, 10000) # use if you want new results\n",
    "print(\"Random Seed: \", manualSeed)\n",
    "random.seed(manualSeed)\n",
    "torch.manual_seed(manualSeed)"
   ]
  },
  {
   "cell_type": "markdown",
   "metadata": {
    "colab_type": "text",
    "id": "qwBpTPahHkPA"
   },
   "source": [
    "## Input"
   ]
  },
  {
   "cell_type": "markdown",
   "metadata": {
    "colab_type": "text",
    "id": "1J_ydbSidHul"
   },
   "source": [
    "**Parameter setting**\n",
    "\n",
    "Here we define some inputs for the run:\n",
    "\n",
    "-  **vm_PATH** - the path of folder in your local machine that mounts google storage \n",
    "-  **id_csv** - the path to the .csv file that has id of subjects\n",
    "-  **workers** - the number of worker threads for loading the data with\n",
    "   the DataLoader\n",
    "-  **batch_size** - the batch size here in fact determine the number of samples once download. We uses a batch size of 2\n",
    "-  **patch_size** - the patch size here in fact determine the number of images (cubes) as the input in one training. We uses a patch size of 2 as is recommended in the paper\n",
    "-  **cube_size** - the spatial size of the images used for training.\n",
    "   This implementation defaults to 64x64x64. If another size is desired,\n",
    "   the structures of D and G must be changed. See\n",
    "   `here <https://github.com/pytorch/examples/issues/70>`__ for more\n",
    "   details\n",
    "-  **usage** - the usage of a patch cluster. usage < 1.0 would mean we choose to randomly give up some patches by this probability\n",
    "-  **num_epochs** - number of training epochs to run. Training for\n",
    "   longer will probably lead to better results but will also take much\n",
    "   longer\n",
    "-  **lr** - learning rate for training. As described in the DCGAN paper,\n",
    "   this number should be 0.0002\n",
    "-  **beta1** - beta1 hyperparameter for Adam optimizers. As described in\n",
    "   paper, this number should be 0.5\n",
    "-  **ngpu** - number of GPUs available. If this is 0, code will run in\n",
    "   CPU mode. If this number is greater than 0 it will run on that number\n",
    "   of GPUs\n",
    "\n",
    "\n"
   ]
  },
  {
   "cell_type": "code",
   "execution_count": 2,
   "metadata": {
    "colab": {},
    "colab_type": "code",
    "id": "5rH9n8f3dHum"
   },
   "outputs": [],
   "source": [
    "# Set pathes\n",
    "vm_PATH = \"./mnt/superresolution/HCP_1200/\"\n",
    "id_csv = './csv/id_hcp.csv'\n",
    "\n",
    "# Number of workers for dataloader\n",
    "workers = 1\n",
    "\n",
    "# Batch size. It controls the number of samples once download\n",
    "batch_size = 16\n",
    "\n",
    "# Patch size, it controls the number of patches once send into the model\n",
    "patch_size = 2\n",
    "\n",
    "# The size of one image patch (eg. 64 means a cubic patch with size: 64x64x64)\n",
    "cube_size = 64\n",
    "\n",
    "# Set the usage of a patch cluster.\n",
    "usage = 1.0\n",
    "\n",
    "# Number of training steps (1.05e6)\n",
    "num_steps = 1000000\n",
    "\n",
    "# Number of mDCSRN (G) pre-training steps (5e5)\n",
    "num_steps_pre = 250000\n",
    "\n",
    "# Number of imbalanced training (7D vs 1G) steps\n",
    "num_steps_imbal = 10000\n",
    "\n",
    "\n",
    "# Learning rate for mDCSRN (G) pre-training optimizers (in paper: 1e-4)\n",
    "lr_pre = 1e-4\n",
    "\n",
    "# Learning rate for optimizers (in paper: 5e-6)\n",
    "lr = 5e-6\n",
    "\n",
    "# Number of GPUs available. Use 0 for CPU mode.\n",
    "ngpu = 1\n",
    "\n",
    "# Set percentage of data spliting\n",
    "train_split= 0.7\n",
    "validate_split = 0.1\n",
    "evaluate_split = 0.1\n",
    "test_split = 0.1\n",
    "\n",
    "# Set shuffle and stablize random_seed\n",
    "shuffle_dataset = True\n",
    "random_seed= 999\n",
    "\n",
    "# set GPU device\n",
    "device = torch.device(\"cuda:0\" if torch.cuda.is_available() else \"cpu\")"
   ]
  },
  {
   "cell_type": "markdown",
   "metadata": {
    "colab_type": "text",
    "id": "Dq7a6EwGdHup"
   },
   "source": [
    "## Data loading with online fetching, and patching\n",
    "\n"
   ]
  },
  {
   "cell_type": "code",
   "execution_count": 3,
   "metadata": {
    "colab": {},
    "colab_type": "code",
    "id": "LJ-YWNK9dHuq"
   },
   "outputs": [],
   "source": [
    "from ecbm6040.dataloader.CustomDatasetFromCSV import CustomDatasetFromCSV\n",
    "\n",
    "from ecbm6040.patching.patchloader import patching"
   ]
  },
  {
   "cell_type": "markdown",
   "metadata": {
    "colab_type": "text",
    "id": "w6C2nyprICvT"
   },
   "source": [
    "**Split data, create dataloaders**"
   ]
  },
  {
   "cell_type": "code",
   "execution_count": 4,
   "metadata": {
    "colab": {
     "base_uri": "https://localhost:8080/",
     "height": 84
    },
    "colab_type": "code",
    "executionInfo": {
     "elapsed": 1024,
     "status": "ok",
     "timestamp": 1556470747291,
     "user": {
      "displayName": "Huixiang Zhuang",
      "photoUrl": "",
      "userId": "14481990962835760752"
     },
     "user_tz": 240
    },
    "id": "uUM-udu2H_cj",
    "outputId": "9ba375d7-d581-4390-f224-a16cd9fb2e14"
   },
   "outputs": [
    {
     "name": "stdout",
     "output_type": "stream",
     "text": [
      "training set number:780\n",
      "validation set number:111\n",
      "evaluation set number:111\n",
      "test set number:111\n"
     ]
    }
   ],
   "source": [
    "# load data from csv\n",
    "dataset = CustomDatasetFromCSV(id_csv,vm_PATH)\n",
    "dataset_size = len(dataset)\n",
    "\n",
    "# get indices for spliting train, valiadate, evaluate, test sets\n",
    "train_size = math.ceil(train_split * dataset_size)\n",
    "validate_size = int(validate_split * dataset_size)\n",
    "evaluate_size = int(evaluate_split * dataset_size)\n",
    "test_size = int(dataset_size - train_size - validate_size - evaluate_size)\n",
    "\n",
    "indices = list(range(dataset_size))\n",
    "if shuffle_dataset :\n",
    "    np.random.seed(random_seed)\n",
    "    np.random.shuffle(indices)\n",
    "train_indices = indices[:train_size]\n",
    "loc_val = train_size + validate_size\n",
    "val_indices = indices[train_size:loc_val]\n",
    "loc_eval = loc_val + evaluate_size\n",
    "eval_indices = indices[loc_val:loc_eval]\n",
    "test_indices = indices[loc_eval:]\n",
    "num_train = len(train_indices)\n",
    "num_val = len(val_indices)\n",
    "num_eval = len(eval_indices)\n",
    "num_test = len(test_indices)\n",
    "print('training set number:{}'.format(len(train_indices)))\n",
    "print('validation set number:{}'.format(len(val_indices)))\n",
    "print('evaluation set number:{}'.format(len(eval_indices)))\n",
    "print('test set number:{}'.format(len(test_indices)))"
   ]
  },
  {
   "cell_type": "code",
   "execution_count": 5,
   "metadata": {
    "colab": {},
    "colab_type": "code",
    "id": "6lIgR1sNIKyk"
   },
   "outputs": [],
   "source": [
    "train_sampler = SubsetRandomSampler(train_indices)\n",
    "valid_sampler = SubsetRandomSampler(val_indices)\n",
    "eval_sampler = SubsetRandomSampler(eval_indices)\n",
    "test_sampler = SubsetRandomSampler(test_indices)\n",
    "\n",
    "train_loader = torch.utils.data.DataLoader(dataset=dataset, \n",
    "                                        batch_size=batch_size, \n",
    "                                        sampler=train_sampler,\n",
    "                                        shuffle=False,\n",
    "                                        num_workers=workers)\n",
    "validation_loader = torch.utils.data.DataLoader(dataset=dataset, \n",
    "                                        batch_size=batch_size, \n",
    "                                        sampler=valid_sampler,\n",
    "                                        shuffle=False,\n",
    "                                        num_workers=workers)\n",
    "eval_loader = torch.utils.data.DataLoader(dataset=dataset, \n",
    "                                        batch_size=batch_size, \n",
    "                                        sampler=eval_sampler,\n",
    "                                        shuffle=False,\n",
    "                                        num_workers=workers)\n",
    "test_loader = torch.utils.data.DataLoader(dataset=dataset, \n",
    "                                        batch_size=batch_size, \n",
    "                                        sampler=test_sampler,\n",
    "                                        shuffle=False,\n",
    "                                        num_workers=workers)\n",
    "\n",
    "\n",
    "dataloaders={'train':train_loader, 'val':validation_loader}\n",
    "dataset_sizes={'train':len(train_sampler), 'val':len(valid_sampler)}"
   ]
  },
  {
   "cell_type": "markdown",
   "metadata": {
    "colab_type": "text",
    "id": "2nZfiUvfdHut"
   },
   "source": [
    "# Implementation\n",
    "We will start with the weight initialization\n",
    "strategy, then talk about the generator, discriminator, loss functions,\n",
    "and training loop in detail.\n",
    "\n"
   ]
  },
  {
   "cell_type": "markdown",
   "metadata": {
    "colab_type": "text",
    "id": "e_4St_WAIvEY"
   },
   "source": [
    "**Weight Initialization**\n",
    "\n"
   ]
  },
  {
   "cell_type": "code",
   "execution_count": 6,
   "metadata": {
    "colab": {},
    "colab_type": "code",
    "id": "90u0zP9BdHuu"
   },
   "outputs": [],
   "source": [
    "# custom weights initialization called on netG and netD\n",
    "def weights_init(m):\n",
    "    classname = m.__class__.__name__\n",
    "    if classname.find('Conv') != -1:\n",
    "        nn.init.normal_(m.weight.data, 0.0, 0.02)\n",
    "    elif classname.find('BatchNorm') != -1:\n",
    "        nn.init.normal_(m.weight.data, 1.0, 0.02)\n",
    "        nn.init.constant_(m.bias.data, 0)"
   ]
  },
  {
   "cell_type": "markdown",
   "metadata": {
    "colab_type": "text",
    "id": "izddXNg3I5uP"
   },
   "source": [
    "**Generator**"
   ]
  },
  {
   "cell_type": "code",
   "execution_count": 10,
   "metadata": {
    "colab": {
     "base_uri": "https://localhost:8080/",
     "height": 1650
    },
    "colab_type": "code",
    "executionInfo": {
     "elapsed": 4468,
     "status": "ok",
     "timestamp": 1556470752008,
     "user": {
      "displayName": "Huixiang Zhuang",
      "photoUrl": "",
      "userId": "14481990962835760752"
     },
     "user_tz": 240
    },
    "id": "iuKI9DN3dHu3",
    "outputId": "41a9e04d-9006-48db-f2a1-a6d9f9981d03"
   },
   "outputs": [
    {
     "name": "stdout",
     "output_type": "stream",
     "text": [
      "Generator(\n",
      "  (conv0): Conv3d(1, 32, kernel_size=(3, 3, 3), stride=(1, 1, 1), padding=(1, 1, 1), bias=False)\n",
      "  (block0): _DenseBlock(\n",
      "    (denselayer1): _DenseLayer(\n",
      "      (norm): BatchNorm3d(32, eps=1e-05, momentum=0.1, affine=True, track_running_stats=True)\n",
      "      (elu): ELU(alpha=1.0, inplace)\n",
      "      (conv): Conv3d(32, 16, kernel_size=(3, 3, 3), stride=(1, 1, 1), padding=(1, 1, 1), bias=False)\n",
      "    )\n",
      "    (denselayer2): _DenseLayer(\n",
      "      (norm): BatchNorm3d(48, eps=1e-05, momentum=0.1, affine=True, track_running_stats=True)\n",
      "      (elu): ELU(alpha=1.0, inplace)\n",
      "      (conv): Conv3d(48, 16, kernel_size=(3, 3, 3), stride=(1, 1, 1), padding=(1, 1, 1), bias=False)\n",
      "    )\n",
      "    (denselayer3): _DenseLayer(\n",
      "      (norm): BatchNorm3d(64, eps=1e-05, momentum=0.1, affine=True, track_running_stats=True)\n",
      "      (elu): ELU(alpha=1.0, inplace)\n",
      "      (conv): Conv3d(64, 16, kernel_size=(3, 3, 3), stride=(1, 1, 1), padding=(1, 1, 1), bias=False)\n",
      "    )\n",
      "    (denselayer4): _DenseLayer(\n",
      "      (norm): BatchNorm3d(80, eps=1e-05, momentum=0.1, affine=True, track_running_stats=True)\n",
      "      (elu): ELU(alpha=1.0, inplace)\n",
      "      (conv): Conv3d(80, 16, kernel_size=(3, 3, 3), stride=(1, 1, 1), padding=(1, 1, 1), bias=False)\n",
      "    )\n",
      "  )\n",
      "  (comp0): Conv3d(128, 32, kernel_size=(1, 1, 1), stride=(1, 1, 1), bias=False)\n",
      "  (block1): _DenseBlock(\n",
      "    (denselayer1): _DenseLayer(\n",
      "      (norm): BatchNorm3d(32, eps=1e-05, momentum=0.1, affine=True, track_running_stats=True)\n",
      "      (elu): ELU(alpha=1.0, inplace)\n",
      "      (conv): Conv3d(32, 16, kernel_size=(3, 3, 3), stride=(1, 1, 1), padding=(1, 1, 1), bias=False)\n",
      "    )\n",
      "    (denselayer2): _DenseLayer(\n",
      "      (norm): BatchNorm3d(48, eps=1e-05, momentum=0.1, affine=True, track_running_stats=True)\n",
      "      (elu): ELU(alpha=1.0, inplace)\n",
      "      (conv): Conv3d(48, 16, kernel_size=(3, 3, 3), stride=(1, 1, 1), padding=(1, 1, 1), bias=False)\n",
      "    )\n",
      "    (denselayer3): _DenseLayer(\n",
      "      (norm): BatchNorm3d(64, eps=1e-05, momentum=0.1, affine=True, track_running_stats=True)\n",
      "      (elu): ELU(alpha=1.0, inplace)\n",
      "      (conv): Conv3d(64, 16, kernel_size=(3, 3, 3), stride=(1, 1, 1), padding=(1, 1, 1), bias=False)\n",
      "    )\n",
      "    (denselayer4): _DenseLayer(\n",
      "      (norm): BatchNorm3d(80, eps=1e-05, momentum=0.1, affine=True, track_running_stats=True)\n",
      "      (elu): ELU(alpha=1.0, inplace)\n",
      "      (conv): Conv3d(80, 16, kernel_size=(3, 3, 3), stride=(1, 1, 1), padding=(1, 1, 1), bias=False)\n",
      "    )\n",
      "  )\n",
      "  (comp1): Conv3d(224, 32, kernel_size=(1, 1, 1), stride=(1, 1, 1), bias=False)\n",
      "  (block2): _DenseBlock(\n",
      "    (denselayer1): _DenseLayer(\n",
      "      (norm): BatchNorm3d(32, eps=1e-05, momentum=0.1, affine=True, track_running_stats=True)\n",
      "      (elu): ELU(alpha=1.0, inplace)\n",
      "      (conv): Conv3d(32, 16, kernel_size=(3, 3, 3), stride=(1, 1, 1), padding=(1, 1, 1), bias=False)\n",
      "    )\n",
      "    (denselayer2): _DenseLayer(\n",
      "      (norm): BatchNorm3d(48, eps=1e-05, momentum=0.1, affine=True, track_running_stats=True)\n",
      "      (elu): ELU(alpha=1.0, inplace)\n",
      "      (conv): Conv3d(48, 16, kernel_size=(3, 3, 3), stride=(1, 1, 1), padding=(1, 1, 1), bias=False)\n",
      "    )\n",
      "    (denselayer3): _DenseLayer(\n",
      "      (norm): BatchNorm3d(64, eps=1e-05, momentum=0.1, affine=True, track_running_stats=True)\n",
      "      (elu): ELU(alpha=1.0, inplace)\n",
      "      (conv): Conv3d(64, 16, kernel_size=(3, 3, 3), stride=(1, 1, 1), padding=(1, 1, 1), bias=False)\n",
      "    )\n",
      "    (denselayer4): _DenseLayer(\n",
      "      (norm): BatchNorm3d(80, eps=1e-05, momentum=0.1, affine=True, track_running_stats=True)\n",
      "      (elu): ELU(alpha=1.0, inplace)\n",
      "      (conv): Conv3d(80, 16, kernel_size=(3, 3, 3), stride=(1, 1, 1), padding=(1, 1, 1), bias=False)\n",
      "    )\n",
      "  )\n",
      "  (comp2): Conv3d(320, 32, kernel_size=(1, 1, 1), stride=(1, 1, 1), bias=False)\n",
      "  (block3): _DenseBlock(\n",
      "    (denselayer1): _DenseLayer(\n",
      "      (norm): BatchNorm3d(32, eps=1e-05, momentum=0.1, affine=True, track_running_stats=True)\n",
      "      (elu): ELU(alpha=1.0, inplace)\n",
      "      (conv): Conv3d(32, 16, kernel_size=(3, 3, 3), stride=(1, 1, 1), padding=(1, 1, 1), bias=False)\n",
      "    )\n",
      "    (denselayer2): _DenseLayer(\n",
      "      (norm): BatchNorm3d(48, eps=1e-05, momentum=0.1, affine=True, track_running_stats=True)\n",
      "      (elu): ELU(alpha=1.0, inplace)\n",
      "      (conv): Conv3d(48, 16, kernel_size=(3, 3, 3), stride=(1, 1, 1), padding=(1, 1, 1), bias=False)\n",
      "    )\n",
      "    (denselayer3): _DenseLayer(\n",
      "      (norm): BatchNorm3d(64, eps=1e-05, momentum=0.1, affine=True, track_running_stats=True)\n",
      "      (elu): ELU(alpha=1.0, inplace)\n",
      "      (conv): Conv3d(64, 16, kernel_size=(3, 3, 3), stride=(1, 1, 1), padding=(1, 1, 1), bias=False)\n",
      "    )\n",
      "    (denselayer4): _DenseLayer(\n",
      "      (norm): BatchNorm3d(80, eps=1e-05, momentum=0.1, affine=True, track_running_stats=True)\n",
      "      (elu): ELU(alpha=1.0, inplace)\n",
      "      (conv): Conv3d(80, 16, kernel_size=(3, 3, 3), stride=(1, 1, 1), padding=(1, 1, 1), bias=False)\n",
      "    )\n",
      "  )\n",
      "  (recon): Conv3d(416, 1, kernel_size=(1, 1, 1), stride=(1, 1, 1), bias=False)\n",
      ")\n",
      "# generator parameters: 411648\n"
     ]
    }
   ],
   "source": [
    "from ecbm6040.model.mDCSRN_WGAN import Generator\n",
    "\n",
    "# Create the generator\n",
    "netG = Generator(ngpu).cuda(device)\n",
    "\n",
    "# Handle multi-gpu if desired\n",
    "if (device.type == 'cuda') and (ngpu > 1):\n",
    "    netG = nn.DataParallel(netG, list(range(ngpu)))\n",
    "\n",
    "# Apply the weights_init function to randomly initialize all weights\n",
    "#  to mean=0, stdev=0.2.\n",
    "# netG.apply(weights_init)\n",
    "\n",
    "# Print the model\n",
    "print(netG)\n",
    "print('# generator parameters:', sum(param.numel() for param in netG.parameters()))"
   ]
  },
  {
   "cell_type": "markdown",
   "metadata": {
    "colab_type": "text",
    "id": "CTd71O4xJQtj"
   },
   "source": [
    "**Discriminator**\n",
    "\n"
   ]
  },
  {
   "cell_type": "code",
   "execution_count": 11,
   "metadata": {
    "colab": {
     "base_uri": "https://localhost:8080/",
     "height": 554
    },
    "colab_type": "code",
    "executionInfo": {
     "elapsed": 4354,
     "status": "ok",
     "timestamp": 1556470752290,
     "user": {
      "displayName": "Huixiang Zhuang",
      "photoUrl": "",
      "userId": "14481990962835760752"
     },
     "user_tz": 240
    },
    "id": "OAIeKhVBdHvB",
    "outputId": "064dac5c-361e-4f98-d726-cd9da4e87bb3"
   },
   "outputs": [
    {
     "name": "stdout",
     "output_type": "stream",
     "text": [
      "Discriminator(\n",
      "  (main): Sequential(\n",
      "    (0): Conv3d(1, 64, kernel_size=(3, 3, 3), stride=(1, 1, 1), padding=(1, 1, 1))\n",
      "    (1): LeakyReLU(negative_slope=0.2)\n",
      "    (2): Conv3d(64, 64, kernel_size=(3, 3, 3), stride=(2, 2, 2), padding=(1, 1, 1))\n",
      "    (3): LayerNorm(torch.Size([64, 32, 32, 32]), eps=1e-05, elementwise_affine=True)\n",
      "    (4): LeakyReLU(negative_slope=0.2)\n",
      "    (5): Conv3d(64, 128, kernel_size=(3, 3, 3), stride=(1, 1, 1), padding=(1, 1, 1))\n",
      "    (6): LayerNorm(torch.Size([128, 32, 32, 32]), eps=1e-05, elementwise_affine=True)\n",
      "    (7): LeakyReLU(negative_slope=0.2)\n",
      "    (8): Conv3d(128, 128, kernel_size=(3, 3, 3), stride=(2, 2, 2), padding=(1, 1, 1))\n",
      "    (9): LayerNorm(torch.Size([128, 16, 16, 16]), eps=1e-05, elementwise_affine=True)\n",
      "    (10): LeakyReLU(negative_slope=0.2)\n",
      "    (11): Conv3d(128, 256, kernel_size=(3, 3, 3), stride=(1, 1, 1), padding=(1, 1, 1))\n",
      "    (12): LayerNorm(torch.Size([256, 16, 16, 16]), eps=1e-05, elementwise_affine=True)\n",
      "    (13): LeakyReLU(negative_slope=0.2)\n",
      "    (14): Conv3d(256, 256, kernel_size=(3, 3, 3), stride=(2, 2, 2), padding=(1, 1, 1))\n",
      "    (15): LayerNorm(torch.Size([256, 8, 8, 8]), eps=1e-05, elementwise_affine=True)\n",
      "    (16): LeakyReLU(negative_slope=0.2)\n",
      "    (17): Conv3d(256, 512, kernel_size=(3, 3, 3), stride=(1, 1, 1), padding=(1, 1, 1))\n",
      "    (18): LayerNorm(torch.Size([512, 8, 8, 8]), eps=1e-05, elementwise_affine=True)\n",
      "    (19): LeakyReLU(negative_slope=0.2)\n",
      "    (20): Conv3d(512, 512, kernel_size=(3, 3, 3), stride=(2, 2, 2), padding=(1, 1, 1))\n",
      "    (21): LayerNorm(torch.Size([512, 4, 4, 4]), eps=1e-05, elementwise_affine=True)\n",
      "    (22): LeakyReLU(negative_slope=0.2)\n",
      "    (23): AdaptiveAvgPool3d(output_size=1)\n",
      "    (24): Conv3d(512, 1024, kernel_size=(1, 1, 1), stride=(1, 1, 1))\n",
      "    (25): LeakyReLU(negative_slope=0.2)\n",
      "    (26): Conv3d(1024, 1, kernel_size=(1, 1, 1), stride=(1, 1, 1))\n",
      "  )\n",
      ")\n",
      "# discriminator parameters: 31155777\n"
     ]
    }
   ],
   "source": [
    "from ecbm6040.model.mDCSRN_WGAN import Discriminator\n",
    "\n",
    "# Create the Discriminator\n",
    "netD = Discriminator(ngpu).cuda(device)\n",
    "\n",
    "# Handle multi-gpu if desired\n",
    "if (device.type == 'cuda') and (ngpu > 1):\n",
    "    netD = nn.DataParallel(netD, list(range(ngpu)))\n",
    "    \n",
    "# Apply the weights_init function to randomly initialize all weights\n",
    "#  to mean=0, stdev=0.2.\n",
    "netD.apply(weights_init)\n",
    "\n",
    "# Print the model\n",
    "print(netD)\n",
    "print('# discriminator parameters:', sum(param.numel() for param in netD.parameters()))"
   ]
  },
  {
   "cell_type": "code",
   "execution_count": 12,
   "metadata": {
    "colab": {},
    "colab_type": "code",
    "id": "MpvXzklJdHvJ"
   },
   "outputs": [],
   "source": [
    "# Initialize Loss functions\n",
    "supervised_criterion = nn.L1Loss()\n",
    "\n",
    "# Establish convention for real and fake labels during training\n",
    "real_label = 1\n",
    "fake_label = 0\n",
    "\n",
    "# Setup Adam optimizers for both G and D\n",
    "optimizerD = optim.Adam(netD.parameters(), lr=lr)\n",
    "optimizerG = optim.Adam(netG.parameters(), lr=lr)"
   ]
  },
  {
   "cell_type": "markdown",
   "metadata": {
    "colab_type": "text",
    "id": "k-6e1RZ-dHvQ"
   },
   "source": [
    "Training\n",
    "~~~~~~~~\n",
    "\n",
    "Finally, now that we have all of the parts of the GAN framework defined,\n",
    "we can train it. Be mindful that training GANs is somewhat of an art\n",
    "form, as incorrect hyperparameter settings lead to mode collapse with\n",
    "little explanation of what went wrong. Here, we will closely follow\n",
    "Algorithm 1 from Goodfellow’s paper, while abiding by some of the best\n",
    "practices shown in `ganhacks <https://github.com/soumith/ganhacks>`__.\n",
    "Namely, we will “construct different mini-batches for real and fake”\n",
    "images, and also adjust G’s objective function to maximize\n",
    "$logD(G(z))$. Training is split up into two main parts. Part 1\n",
    "updates the Discriminator and Part 2 updates the Generator.\n",
    "\n",
    "**Part 1 - Train the Discriminator**\n",
    "\n",
    "Recall, the goal of training the discriminator is to maximize the\n",
    "probability of correctly classifying a given input as real or fake. In\n",
    "terms of Goodfellow, we wish to “update the discriminator by ascending\n",
    "its stochastic gradient”. Practically, we want to maximize\n",
    "$log(D(x)) + log(1-D(G(z)))$. Due to the separate mini-batch\n",
    "suggestion from ganhacks, we will calculate this in two steps. First, we\n",
    "will construct a batch of real samples from the training set, forward\n",
    "pass through $D$, calculate the loss ($log(D(x))$), then\n",
    "calculate the gradients in a backward pass. Secondly, we will construct\n",
    "a batch of fake samples with the current generator, forward pass this\n",
    "batch through $D$, calculate the loss ($log(1-D(G(z)))$),\n",
    "and *accumulate* the gradients with a backward pass. Now, with the\n",
    "gradients accumulated from both the all-real and all-fake batches, we\n",
    "call a step of the Discriminator’s optimizer.\n",
    "\n",
    "**Part 2 - Train the Generator**\n",
    "\n",
    "As stated in the original paper, we want to train the Generator by\n",
    "minimizing $log(1-D(G(z)))$ in an effort to generate better fakes.\n",
    "As mentioned, this was shown by Goodfellow to not provide sufficient\n",
    "gradients, especially early in the learning process. As a fix, we\n",
    "instead wish to maximize $log(D(G(z)))$. In the code we accomplish\n",
    "this by: classifying the Generator output from Part 1 with the\n",
    "Discriminator, computing G’s loss *using real labels as GT*, computing\n",
    "G’s gradients in a backward pass, and finally updating G’s parameters\n",
    "with an optimizer step. It may seem counter-intuitive to use the real\n",
    "labels as GT labels for the loss function, but this allows us to use the\n",
    "$log(x)$ part of the BCELoss (rather than the $log(1-x)$\n",
    "part) which is exactly what we want.\n",
    "\n",
    "Finally, we will do some statistic reporting and at the end of each\n",
    "epoch we will push our fixed_noise batch through the generator to\n",
    "visually track the progress of G’s training. The training statistics\n",
    "reported are:\n",
    "\n",
    "-  **Loss_D** - discriminator loss calculated as the sum of losses for\n",
    "   the all real and all fake batches ($log(D(x)) + log(D(G(z)))$).\n",
    "-  **Loss_G** - generator loss calculated as $log(D(G(z)))$\n",
    "-  **D(x)** - the average output (across the batch) of the discriminator\n",
    "   for the all real batch. This should start close to 1 then\n",
    "   theoretically converge to 0.5 when G gets better. Think about why\n",
    "   this is.\n",
    "-  **D(G(z))** - average discriminator outputs for the all fake batch.\n",
    "   The first number is before D is updated and the second number is\n",
    "   after D is updated. These numbers should start near 0 and converge to\n",
    "   0.5 as G gets better. Think about why this is.\n",
    "\n",
    "**Note:** This step might take a while, depending on how many epochs you\n",
    "run and if you removed some data from the dataset.\n",
    "\n",
    "\n"
   ]
  },
  {
   "cell_type": "code",
   "execution_count": 13,
   "metadata": {
    "colab": {},
    "colab_type": "code",
    "id": "XGNVrImVs-bu"
   },
   "outputs": [],
   "source": [
    "from training_pre import training_pre"
   ]
  },
  {
   "cell_type": "code",
   "execution_count": 15,
   "metadata": {
    "colab": {
     "base_uri": "https://localhost:8080/",
     "height": 2520
    },
    "colab_type": "code",
    "executionInfo": {
     "elapsed": 220734,
     "status": "error",
     "timestamp": 1556470973759,
     "user": {
      "displayName": "Huixiang Zhuang",
      "photoUrl": "",
      "userId": "14481990962835760752"
     },
     "user_tz": 240
    },
    "id": "wzYKoGXlueD3",
    "outputId": "ee910af3-7de7-42bc-b991-b67bf174afb3"
   },
   "outputs": [
    {
     "name": "stdout",
     "output_type": "stream",
     "text": [
      "Generator pre-training...\n",
      "Step 0/500000\n",
      "----------\n",
      "Step: 50, loss= 0.5110\n",
      "Step: 100, loss= 0.3001\n",
      "Step: 150, loss= 0.2593\n",
      "Step: 200, loss= 0.2138\n",
      "Step: 250, loss= 0.1492\n",
      "Step: 300, loss= 0.1964\n"
     ]
    },
    {
     "name": "stderr",
     "output_type": "stream",
     "text": [
      "Process Process-2:\n",
      "Traceback (most recent call last):\n",
      "  File \"/usr/lib/python3.6/multiprocessing/process.py\", line 258, in _bootstrap\n",
      "    self.run()\n",
      "  File \"/usr/lib/python3.6/multiprocessing/process.py\", line 93, in run\n",
      "    self._target(*self._args, **self._kwargs)\n",
      "  File \"/home/ecbm4040/dlenv/lib/python3.6/site-packages/torch/utils/data/dataloader.py\", line 52, in _worker_loop\n",
      "    r = index_queue.get()\n",
      "  File \"/usr/lib/python3.6/multiprocessing/queues.py\", line 335, in get\n",
      "    res = self._reader.recv_bytes()\n",
      "  File \"/usr/lib/python3.6/multiprocessing/connection.py\", line 216, in recv_bytes\n",
      "    buf = self._recv_bytes(maxlength)\n",
      "  File \"/usr/lib/python3.6/multiprocessing/connection.py\", line 407, in _recv_bytes\n",
      "    buf = self._recv(4)\n",
      "  File \"/usr/lib/python3.6/multiprocessing/connection.py\", line 379, in _recv\n",
      "    chunk = read(handle, remaining)\n",
      "KeyboardInterrupt\n",
      "Exception ignored in: <bound method _DataLoaderIter.__del__ of <torch.utils.data.dataloader._DataLoaderIter object at 0x7f2209e9fc50>>\n",
      "Traceback (most recent call last):\n",
      "  File \"/home/ecbm4040/dlenv/lib/python3.6/site-packages/torch/utils/data/dataloader.py\", line 347, in __del__\n",
      "    def __del__(self):\n",
      "  File \"/home/ecbm4040/dlenv/lib/python3.6/site-packages/torch/utils/data/dataloader.py\", line 178, in handler\n",
      "    _error_if_any_worker_fails()\n",
      "RuntimeError: DataLoader worker (pid 3359) exited unexpectedly with exit code 1.\n"
     ]
    },
    {
     "ename": "KeyboardInterrupt",
     "evalue": "",
     "output_type": "error",
     "traceback": [
      "\u001b[0;31m---------------------------------------------------------\u001b[0m",
      "\u001b[0;31mKeyboardInterrupt\u001b[0m       Traceback (most recent call last)",
      "\u001b[0;32m<ipython-input-15-eb179f2473fc>\u001b[0m in \u001b[0;36m<module>\u001b[0;34m\u001b[0m\n\u001b[1;32m      2\u001b[0m                    \u001b[0mdataset_sizes\u001b[0m\u001b[0;34m,\u001b[0m \u001b[0msupervised_criterion\u001b[0m\u001b[0;34m,\u001b[0m\u001b[0;34m\u001b[0m\u001b[0;34m\u001b[0m\u001b[0m\n\u001b[1;32m      3\u001b[0m                    \u001b[0mdevice\u001b[0m\u001b[0;34m,\u001b[0m \u001b[0mmax_step\u001b[0m\u001b[0;34m=\u001b[0m\u001b[0mnum_steps_pre\u001b[0m\u001b[0;34m,\u001b[0m\u001b[0;34m\u001b[0m\u001b[0;34m\u001b[0m\u001b[0m\n\u001b[0;32m----> 4\u001b[0;31m                    lr=lr_pre, pretrained=' ')\n\u001b[0m",
      "\u001b[0;32m~/ECBM6040/superresolution/training_pre.py\u001b[0m in \u001b[0;36mtraining_pre\u001b[0;34m(model, dataloaders, dataset_sizes, criterion, device, max_step, lr, patch_size, cube_size, usage, pretrained)\u001b[0m\n\u001b[1;32m     86\u001b[0m                         \u001b[0;32mreturn\u001b[0m \u001b[0mmodel\u001b[0m\u001b[0;34m\u001b[0m\u001b[0;34m\u001b[0m\u001b[0m\n\u001b[1;32m     87\u001b[0m                     \u001b[0;31m# statistics\u001b[0m\u001b[0;34m\u001b[0m\u001b[0;34m\u001b[0m\u001b[0;34m\u001b[0m\u001b[0m\n\u001b[0;32m---> 88\u001b[0;31m                     \u001b[0mbatch_loss\u001b[0m \u001b[0;34m+=\u001b[0m \u001b[0mloss\u001b[0m\u001b[0;34m.\u001b[0m\u001b[0mitem\u001b[0m\u001b[0;34m(\u001b[0m\u001b[0;34m)\u001b[0m \u001b[0;34m*\u001b[0m \u001b[0mlr_patches\u001b[0m\u001b[0;34m.\u001b[0m\u001b[0msize\u001b[0m\u001b[0;34m(\u001b[0m\u001b[0;36m0\u001b[0m\u001b[0;34m)\u001b[0m\u001b[0;34m\u001b[0m\u001b[0;34m\u001b[0m\u001b[0m\n\u001b[0m\u001b[1;32m     89\u001b[0m             \u001b[0mepoch_loss\u001b[0m \u001b[0;34m=\u001b[0m \u001b[0mbatch_loss\u001b[0m \u001b[0;34m/\u001b[0m \u001b[0mdataset_sizes\u001b[0m\u001b[0;34m[\u001b[0m\u001b[0mphase\u001b[0m\u001b[0;34m]\u001b[0m\u001b[0;34m\u001b[0m\u001b[0;34m\u001b[0m\u001b[0m\n\u001b[1;32m     90\u001b[0m             \u001b[0mprint\u001b[0m\u001b[0;34m(\u001b[0m\u001b[0;34m'{} Loss: {:.4f}'\u001b[0m\u001b[0;34m.\u001b[0m\u001b[0mformat\u001b[0m\u001b[0;34m(\u001b[0m\u001b[0mphase\u001b[0m\u001b[0;34m,\u001b[0m \u001b[0mepoch_loss\u001b[0m\u001b[0;34m)\u001b[0m\u001b[0;34m)\u001b[0m\u001b[0;34m\u001b[0m\u001b[0;34m\u001b[0m\u001b[0m\n",
      "\u001b[0;31mKeyboardInterrupt\u001b[0m: "
     ]
    }
   ],
   "source": [
    "model=training_pre(netG, dataloaders, \n",
    "                   dataset_sizes, supervised_criterion, \n",
    "                   device, max_step=num_steps_pre, \n",
    "                   lr=lr_pre, pretrained=' ')"
   ]
  },
  {
   "cell_type": "code",
   "execution_count": 13,
   "metadata": {
    "colab": {},
    "colab_type": "code",
    "id": "I5yM0nV2d-YZ"
   },
   "outputs": [],
   "source": [
    "def check_result_images(step,slice=50):\n",
    "    f=open('example_images/example_lr_step{}.txt'.format(step),'rb')\n",
    "    lr_patches = pickle.load(f)\n",
    "    f.close()\n",
    "    f=open('example_images/example_sr_step{}.txt'.format(step),'rb')\n",
    "    sr_patches = pickle.load(f)\n",
    "    f.close()\n",
    "    f=open('example_images/example_hr_step{}.txt'.format(step),'rb')\n",
    "    hr_patches = pickle.load(f)\n",
    "    f.close()\n",
    "    f = plt.figure(figsize=(16,8))\n",
    "    patch_size = lr_patches.shape[0]\n",
    "    for patch in range(patch_size):\n",
    "        sp = f.add_subplot(patch_size,3,patch*3+1)\n",
    "        sp.axis('Off')\n",
    "        sp.set_title('Low resolution image', fontsize=16)\n",
    "        plt.imshow(lr_patches[patch,0,slice,:,:],cmap='gray')\n",
    "        \n",
    "        sp = f.add_subplot(patch_size,3,patch*3+2)\n",
    "        sp.axis('Off')\n",
    "        sp.set_title('Super resolution image', fontsize=16)\n",
    "        plt.imshow(sr_patches[patch,0,slice,:,:],cmap='gray')\n",
    "        \n",
    "        sp = f.add_subplot(patch_size,3,patch*3+3)\n",
    "        sp.axis('Off')\n",
    "        sp.set_title('High resolution image', fontsize=16)\n",
    "        plt.imshow(hr_patches[patch,0,slice,:,:],cmap='gray')\n"
   ]
  },
  {
   "cell_type": "code",
   "execution_count": 14,
   "metadata": {
    "colab": {
     "base_uri": "https://localhost:8080/",
     "height": 521
    },
    "colab_type": "code",
    "executionInfo": {
     "elapsed": 1078,
     "status": "ok",
     "timestamp": 1556432141891,
     "user": {
      "displayName": "Huixiang Zhuang",
      "photoUrl": "",
      "userId": "14481990962835760752"
     },
     "user_tz": 240
    },
    "id": "aOstPXg1iiTP",
    "outputId": "31b28907-5ebe-4e4f-a716-edc0ef2737ab",
    "scrolled": true
   },
   "outputs": [
    {
     "data": {
      "image/png": "[encoded data removed]",
      "text/plain": [
       "<Figure size 1152x576 with 6 Axes>"
      ]
     },
     "metadata": {
      "needs_background": "light"
     },
     "output_type": "display_data"
    }
   ],
   "source": [
    "check_result_images(step=200000,slice=50)"
   ]
  },
  {
   "cell_type": "code",
   "execution_count": null,
   "metadata": {},
   "outputs": [],
   "source": []
  }
 ],
 "metadata": {
  "accelerator": "GPU",
  "colab": {
   "collapsed_sections": [],
   "name": "DCSRN+SRGAN",
   "provenance": [
    {
     "file_id": "1BxG_eZ0aYoI7qeqP_atQQ5SP8u7Z0HIO",
     "timestamp": 1555903960388
    },
    {
     "file_id": "https://github.com/pytorch/tutorials/blob/gh-pages/_downloads/dcgan_faces_tutorial.ipynb",
     "timestamp": 1554232162550
    }
   ],
   "version": "0.3.2"
  },
  "kernelspec": {
   "display_name": "Python 3",
   "language": "python",
   "name": "python3"
  },
  "language_info": {
   "codemirror_mode": {
    "name": "ipython",
    "version": 3
   },
   "file_extension": ".py",
   "mimetype": "text/x-python",
   "name": "python",
   "nbconvert_exporter": "python",
   "pygments_lexer": "ipython3",
   "version": "3.6.8"
  }
 },
 "nbformat": 4,
 "nbformat_minor": 1
}
